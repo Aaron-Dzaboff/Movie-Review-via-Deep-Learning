{
 "cells": [
  {
   "cell_type": "markdown",
   "metadata": {},
   "source": [
    "## Project 4 \n",
    "\n",
    "### By: Jacob Swinton and Aaron Dzaboff"
   ]
  },
  {
   "cell_type": "code",
   "execution_count": 1,
   "metadata": {
    "scrolled": true
   },
   "outputs": [
    {
     "name": "stderr",
     "output_type": "stream",
     "text": [
      "Using TensorFlow backend.\n"
     ]
    }
   ],
   "source": [
    "import keras\n",
    "from keras.datasets import imdb\n",
    "(train_data, train_labels), (test_data, test_labels) = imdb.load_data(num_words=10000)\n",
    "\n",
    "import numpy as np"
   ]
  },
  {
   "cell_type": "code",
   "execution_count": 2,
   "metadata": {},
   "outputs": [
    {
     "data": {
      "text/plain": [
       "\"? this film was just brilliant casting location scenery story direction everyone's really suited the part they played and you could just imagine being there robert ? is an amazing actor and now the same being director ? father came from the same scottish island as myself so i loved the fact there was a real connection with this film the witty remarks throughout the film were great it was just brilliant so much that i bought the film as soon as it was released for ? and would recommend it to everyone to watch and the fly fishing was amazing really cried at the end it was so sad and you know what they say if you cry at a film it must have been good and this definitely was also ? to the two little boy's that played the ? of norman and paul they were just brilliant children are often left out of the ? list i think because the stars that play them all grown up are such a big profile for the whole film but these children are amazing and should be praised for what they have done don't you think the whole story was so lovely because it was true and was someone's life after all that was shared with us all\""
      ]
     },
     "execution_count": 2,
     "metadata": {},
     "output_type": "execute_result"
    }
   ],
   "source": [
    "word_index = imdb.get_word_index()\n",
    "reverse_word_index = dict([(value, key) for (key, value) in word_index.items()])\n",
    "decoded_review = ' '.join([reverse_word_index.get(i - 3, '?') for i in train_data[0]])\n",
    "decoded_review"
   ]
  },
  {
   "cell_type": "code",
   "execution_count": 3,
   "metadata": {},
   "outputs": [],
   "source": [
    "\n",
    "def vectorize_sequences(sequences, dimension=10000):\n",
    "    results = np.zeros((len(sequences), dimension))\n",
    "    for i, sequence in enumerate(sequences):\n",
    "        results[i, sequence] = 1.  # set specific indices of results[i] to 1s\n",
    "    return results\n"
   ]
  },
  {
   "cell_type": "code",
   "execution_count": 4,
   "metadata": {},
   "outputs": [],
   "source": [
    "x_train = vectorize_sequences(train_data)\n",
    "x_test = vectorize_sequences(test_data)\n",
    "\n",
    "y_train = train_labels\n",
    "y_test = test_labels"
   ]
  },
  {
   "cell_type": "markdown",
   "metadata": {},
   "source": [
    "## Project Code"
   ]
  },
  {
   "cell_type": "code",
   "execution_count": 6,
   "metadata": {},
   "outputs": [
    {
     "name": "stdout",
     "output_type": "stream",
     "text": [
      "There are 25000 training samples, 6250 validation samples, and 25000 test samples.\n"
     ]
    }
   ],
   "source": [
    "#Creating a validation set\n",
    "# training/validation split (validation size is 25%)\n",
    "from sklearn.model_selection import train_test_split\n",
    "x_train_, val_train, x_test_, val_labels = train_test_split(x_train,\n",
    "        y_train, random_state = 4)\n",
    "\n",
    "print('There are {} training samples, {} validation samples, and {} test samples.'\n",
    "      .format(len(x_train), len(val_train), len(x_test)))"
   ]
  },
  {
   "cell_type": "code",
   "execution_count": 7,
   "metadata": {},
   "outputs": [
    {
     "name": "stdout",
     "output_type": "stream",
     "text": [
      "WARNING:tensorflow:From C:\\Users\\aaron\\AppData\\Roaming\\Python\\Python37\\site-packages\\tensorflow_core\\python\\ops\\resource_variable_ops.py:1630: calling BaseResourceVariable.__init__ (from tensorflow.python.ops.resource_variable_ops) with constraint is deprecated and will be removed in a future version.\n",
      "Instructions for updating:\n",
      "If using Keras pass *_constraint arguments to layers.\n",
      "Model: \"sequential_1\"\n",
      "_________________________________________________________________\n",
      "Layer (type)                 Output Shape              Param #   \n",
      "=================================================================\n",
      "dense_1 (Dense)              (None, 50)                500050    \n",
      "_________________________________________________________________\n",
      "dense_2 (Dense)              (None, 50)                2550      \n",
      "_________________________________________________________________\n",
      "dense_3 (Dense)              (None, 50)                2550      \n",
      "_________________________________________________________________\n",
      "dense_4 (Dense)              (None, 1)                 51        \n",
      "=================================================================\n",
      "Total params: 505,201\n",
      "Trainable params: 505,201\n",
      "Non-trainable params: 0\n",
      "_________________________________________________________________\n"
     ]
    }
   ],
   "source": [
    "# define network model\n",
    "from keras import models\n",
    "from keras import layers\n",
    "\n",
    "network = models.Sequential()\n",
    "\n",
    "#Input layer\n",
    "network.add(layers.Dense(50, activation='relu', input_shape=(10000, )))\n",
    "\n",
    "#Hidden Layers\n",
    "network.add(layers.Dense(50, activation='relu'))\n",
    "network.add(layers.Dense(50, activation='relu'))\n",
    "\n",
    "#Outputlayer\n",
    "network.add(layers.Dense(1, activation='sigmoid'))\n",
    "network.summary()"
   ]
  },
  {
   "cell_type": "code",
   "execution_count": 8,
   "metadata": {},
   "outputs": [
    {
     "name": "stdout",
     "output_type": "stream",
     "text": [
      "WARNING:tensorflow:From C:\\Users\\aaron\\AppData\\Roaming\\Python\\Python37\\site-packages\\tensorflow_core\\python\\ops\\nn_impl.py:183: where (from tensorflow.python.ops.array_ops) is deprecated and will be removed in a future version.\n",
      "Instructions for updating:\n",
      "Use tf.where in 2.0, which has the same broadcast rule as np.where\n"
     ]
    }
   ],
   "source": [
    "#Configuring the network\n",
    "\n",
    "network.compile(optimizer='rmsprop',\n",
    "                loss='binary_crossentropy',\n",
    "                metrics=['accuracy'])"
   ]
  },
  {
   "cell_type": "code",
   "execution_count": 23,
   "metadata": {},
   "outputs": [
    {
     "name": "stdout",
     "output_type": "stream",
     "text": [
      "Train on 18750 samples, validate on 6250 samples\n",
      "Epoch 1/10\n",
      "18750/18750 [==============================] - 8s 438us/step - loss: 5.5750e-04 - accuracy: 0.9998 - val_loss: 5.3160 - val_accuracy: 0.8634\n",
      "Epoch 2/10\n",
      "18750/18750 [==============================] - 8s 441us/step - loss: 6.7532e-04 - accuracy: 0.9999 - val_loss: 4.8598 - val_accuracy: 0.8642\n",
      "Epoch 3/10\n",
      "18750/18750 [==============================] - 9s 505us/step - loss: 8.6343e-09 - accuracy: 1.0000 - val_loss: 5.0496 - val_accuracy: 0.8688\n",
      "Epoch 4/10\n",
      "18750/18750 [==============================] - 9s 498us/step - loss: 7.6978e-10 - accuracy: 1.0000 - val_loss: 5.1713 - val_accuracy: 0.8696\n",
      "Epoch 5/10\n",
      "18750/18750 [==============================] - 9s 459us/step - loss: 3.6861e-10 - accuracy: 1.0000 - val_loss: 5.2479 - val_accuracy: 0.8707\n",
      "Epoch 6/10\n",
      "18750/18750 [==============================] - 9s 481us/step - loss: 2.4336e-10 - accuracy: 1.0000 - val_loss: 5.2968 - val_accuracy: 0.8704\n",
      "Epoch 7/10\n",
      "18750/18750 [==============================] - 10s 508us/step - loss: 1.8378e-10 - accuracy: 1.0000 - val_loss: 5.3312 - val_accuracy: 0.8701\n",
      "Epoch 8/10\n",
      "18750/18750 [==============================] - 10s 524us/step - loss: 1.5390e-10 - accuracy: 1.0000 - val_loss: 5.3625 - val_accuracy: 0.8701\n",
      "Epoch 9/10\n",
      "18750/18750 [==============================] - 10s 512us/step - loss: 1.3157e-10 - accuracy: 1.0000 - val_loss: 5.3878 - val_accuracy: 0.8701\n",
      "Epoch 10/10\n",
      "18750/18750 [==============================] - 9s 462us/step - loss: 1.1666e-10 - accuracy: 1.0000 - val_loss: 5.4114 - val_accuracy: 0.8699\n"
     ]
    }
   ],
   "source": [
    "# training\n",
    "history = network.fit(x_train_, x_test_, epochs=10, batch_size=32, validation_data = (val_train, val_labels))"
   ]
  },
  {
   "cell_type": "code",
   "execution_count": 25,
   "metadata": {},
   "outputs": [
    {
     "data": {
      "image/png": "[encoded data removed]",
      "text/plain": [
       "<Figure size 432x288 with 1 Axes>"
      ]
     },
     "metadata": {
      "needs_background": "light"
     },
     "output_type": "display_data"
    },
    {
     "name": "stdout",
     "output_type": "stream",
     "text": [
      "The best model is obtained right after 5 epochs\n"
     ]
    }
   ],
   "source": [
    "acc = history.history['accuracy']\n",
    "val_acc = history.history['val_accuracy']\n",
    "loss = history.history['loss']\n",
    "val_loss = history.history['val_loss']\n",
    "epochs = range(1, len(acc) + 1)\n",
    "\n",
    "# plot training score and validation score\n",
    "import matplotlib.pyplot as plt\n",
    "plt.plot(epochs, acc, 'bo', label='Training acc')\n",
    "plt.plot(epochs, val_acc, 'b', label='Validation acc')\n",
    "plt.title('Training and validation accuracy')\n",
    "plt.xlabel('Epochs')\n",
    "plt.ylabel('Accuracy')\n",
    "plt.legend()\n",
    "plt.show()\n",
    "\n",
    "# best model\n",
    "best_score = 0\n",
    "best_epoch = 1\n",
    "for c in range (1, len(acc)+1, 1):\n",
    "    if val_acc[c-1] > best_score:\n",
    "        best_epoch = c\n",
    "        best_score = val_acc[c-1]\n",
    "\n",
    "print(\"The best model is obtained right after {} epochs\".format(best_epoch))"
   ]
  },
  {
   "cell_type": "code",
   "execution_count": 28,
   "metadata": {},
   "outputs": [
    {
     "name": "stdout",
     "output_type": "stream",
     "text": [
      "Epoch 1/5\n",
      "25000/25000 [==============================] - 11s 434us/step - loss: 0.0021 - accuracy: 0.9994\n",
      "Epoch 2/5\n",
      "25000/25000 [==============================] - 10s 395us/step - loss: 0.0047 - accuracy: 0.9993\n",
      "Epoch 3/5\n",
      "25000/25000 [==============================] - 10s 420us/step - loss: 0.0018 - accuracy: 0.9998\n",
      "Epoch 4/5\n",
      "25000/25000 [==============================] - 11s 434us/step - loss: 2.5284e-04 - accuracy: 0.9999\n",
      "Epoch 5/5\n",
      "25000/25000 [==============================] - 10s 410us/step - loss: 5.1041e-06 - accuracy: 1.0000\n"
     ]
    },
    {
     "data": {
      "text/plain": [
       "<keras.callbacks.callbacks.History at 0x1b1ade3feb8>"
      ]
     },
     "execution_count": 28,
     "metadata": {},
     "output_type": "execute_result"
    }
   ],
   "source": [
    "# train the model\n",
    "network.fit(x_train, y_train, epochs=best_epoch, batch_size=32)"
   ]
  },
  {
   "cell_type": "code",
   "execution_count": 29,
   "metadata": {},
   "outputs": [
    {
     "name": "stdout",
     "output_type": "stream",
     "text": [
      "25000/25000 [==============================] - 5s 216us/step\n",
      "The test score is 86.15%\n"
     ]
    }
   ],
   "source": [
    "# Evaluation\n",
    "test_loss, test_acc = network.evaluate(x_test, y_test)\n",
    "print('The test score is {:.2f}%'.format(test_acc*100))"
   ]
  }
 ],
 "metadata": {
  "kernelspec": {
   "display_name": "Python 3",
   "language": "python",
   "name": "python3"
  },
  "language_info": {
   "codemirror_mode": {
    "name": "ipython",
    "version": 3
   },
   "file_extension": ".py",
   "mimetype": "text/x-python",
   "name": "python",
   "nbconvert_exporter": "python",
   "pygments_lexer": "ipython3",
   "version": "3.7.3"
  }
 },
 "nbformat": 4,
 "nbformat_minor": 2
}
